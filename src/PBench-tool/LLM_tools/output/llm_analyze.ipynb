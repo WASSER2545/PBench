{
 "cells": [
  {
   "cell_type": "code",
   "execution_count": 1,
   "metadata": {},
   "outputs": [
    {
     "name": "stdout",
     "output_type": "stream",
     "text": [
      "678\n",
      "569\n"
     ]
    }
   ],
   "source": [
    "import pandas as pd\n",
    "import numpy as np\n",
    "with open('/Users/zsy/Documents/codespace/python/FlexBench_original/simulator/rushrush/LLM_new/output/llm-llm-sql-metrics.json') as f:\n",
    "    data = pd.read_json(f)\n",
    "# drop row if is_valid is 0\n",
    "print(len(data))\n",
    "data = data[data['is_valid'] == 1]\n",
    "# 在query行 去重\n",
    "data = data.drop_duplicates(subset='query')\n",
    "print(len(data))\n",
    "# save to the original file\n",
    "data.to_json('/Users/zsy/Documents/codespace/python/FlexBench_original/simulator/rushrush/LLM_new/output/llm-llm-sql-metrics.json', orient='records')"
   ]
  }
 ],
 "metadata": {
  "kernelspec": {
   "display_name": "venv",
   "language": "python",
   "name": "python3"
  },
  "language_info": {
   "codemirror_mode": {
    "name": "ipython",
    "version": 3
   },
   "file_extension": ".py",
   "mimetype": "text/x-python",
   "name": "python",
   "nbconvert_exporter": "python",
   "pygments_lexer": "ipython3",
   "version": "3.10.14"
  }
 },
 "nbformat": 4,
 "nbformat_minor": 2
}
